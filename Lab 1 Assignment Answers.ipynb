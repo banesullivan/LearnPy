{
 "cells": [
  {
   "cell_type": "code",
   "execution_count": null,
   "metadata": {},
   "outputs": [],
   "source": [
    "import numpy as np\n",
    "import matplotlib.pyplot as plt\n",
    "from scipy import *"
   ]
  },
  {
   "cell_type": "markdown",
   "metadata": {},
   "source": [
    "# LAB 1 - Introduction to Python\n",
    "\n",
    "The purpose of this lab is to get you writing short code in Python - either in a IDE like Spyder or (preferrably) in a Jupyter Notebook file.  You will notice that there are a number of additional files in the directory that provide (I think) a very good introduction to Python including a number of worked examples.  I'd recommend finding/reading through the relevant sections before beginning any of the exercises!\n",
    "\n",
    "**Note: You must show your analytical/numerical work, and your computations must be reproducible either as a number of short python codes or (preferrably) in a single Jupyter Notebook!**"
   ]
  },
  {
   "cell_type": "markdown",
   "metadata": {},
   "source": [
    "## Part 1 - Introduction to Python Programming\n",
    "\n",
    "(**Q1-1**) **Functions:** Write a short Python script that solves the [quadratic equation](https://en.wikipedia.org/wiki/Quadratic_equation) \n",
    "\n",
    "$$ x = \\frac{-b \\pm \\sqrt{b^2-4ac}}{2a} \\tag{1} $$\n",
    "\n",
    "for a particular set of $a$, $b$ and $c$.  Note that it would be judicious to define and then call a **function** that requires the input of a set of $a$, $b$ and $c$ values."
   ]
  },
  {
   "cell_type": "code",
   "execution_count": null,
   "metadata": {},
   "outputs": [],
   "source": [
    "## . . Your answer to question 1-1\n",
    "def solveQuad(a,b,c):\n",
    "    d = (b**2) - (4*a*c)\n",
    "    numpos = -b + np.sqrt(d)\n",
    "    numneg = -b - np.sqrt(d)\n",
    "    den = 2*a\n",
    "    return [numpos/den, numneg/den]\n"
   ]
  },
  {
   "cell_type": "markdown",
   "metadata": {},
   "source": [
    "(**Q1-2**) **Slicing**: Define a string representing the phrase *'Digital Signal Processing'*.  Write the Python commands to:\n",
    "\n",
    "(a) Extract and print out the word 'Signal'?\n",
    "\n",
    "(b) Write every third character in the phrase?\n",
    "\n",
    "(c) Sort and print out the phrase in alphabetical order?"
   ]
  },
  {
   "cell_type": "code",
   "execution_count": null,
   "metadata": {},
   "outputs": [],
   "source": [
    "## . . Your answer to question 1-2\n",
    "course = 'Digital Signal Processing'\n",
    "print(course[8:15])\n",
    "print(course[::3])\n",
    "print(''.join(sorted(course.lower())))"
   ]
  },
  {
   "cell_type": "markdown",
   "metadata": {},
   "source": [
    "(**Q1-3**) **Loops**: Write a short Python script to write out the value of $x^2$ for integers ranging from 0 to 20.  You should first define and then call a function."
   ]
  },
  {
   "cell_type": "code",
   "execution_count": null,
   "metadata": {},
   "outputs": [],
   "source": [
    "## . . Your answer to question 1-3\n",
    "# Note: range up to 21 because range(val) yields [0,val)\n",
    "print([x**2 for x in range(21)])\n"
   ]
  },
  {
   "cell_type": "markdown",
   "metadata": {},
   "source": [
    "(**Q1-4**) **Loop + If-else structure**: Extend your answer to question Q1-3 to write out $x^2$ only when $x$ is a prime number.  Otherwise, you should write out $x^3$.  (HINT: is there a python *isprime* command?)"
   ]
  },
  {
   "cell_type": "code",
   "execution_count": null,
   "metadata": {},
   "outputs": [],
   "source": [
    "## . . Your answer to question 1-4\n",
    "def isprime(n):\n",
    "    '''check if integer n is a prime'''\n",
    "    # make sure n is a positive integer\n",
    "    n = abs(int(n))\n",
    "    # 0 and 1 are not primes\n",
    "    if n < 2:\n",
    "        return False\n",
    "    # 2 is the only even prime number\n",
    "    if n == 2: \n",
    "        return True    \n",
    "    # all other even numbers are not primes\n",
    "    if not n & 1: \n",
    "        return False\n",
    "    # range starts with 3 and only needs to go up the squareroot of n\n",
    "    # for all odd numbers\n",
    "    for x in range(3, int(n**0.5)+1, 2):\n",
    "        if n % x == 0:\n",
    "            return False\n",
    "    return True\n",
    "\n",
    "\n",
    "print_me = [] # makes horizontal print out\n",
    "for x in range(21): \n",
    "    if isprime(x):\n",
    "        print_me.append(x**2)\n",
    "        #print(x**2)\n",
    "    else:\n",
    "        print_me.append(x**3)\n",
    "        #print(x**3)\n",
    "print(print_me)\n"
   ]
  },
  {
   "cell_type": "markdown",
   "metadata": {},
   "source": [
    "## Part 2 - Numpy\n",
    "\n",
    "**Q2-1**: **Arrays**: Write a Python coode that that constructs a 10x10 Numpy Array that has entries equal to the row times column number (e.g., the entry for row 2, column 3 would be 6).  Do not use manual entry and remember Python indexing starts at 0!"
   ]
  },
  {
   "cell_type": "code",
   "execution_count": null,
   "metadata": {},
   "outputs": [],
   "source": [
    "## . . You answer to question 2-1\n",
    "#data = np.zeros((10,10), dtype=np.int)\n",
    "dim = 10\n",
    "matr = np.array([(i)*(j) for i in range(dim) for j in range(dim)], dtype=np.int)\n",
    "matr = matr.reshape(10,10)\n",
    "\n",
    "\n",
    "print([range(1,10)])\n",
    "print(matr)\n",
    "print(matr[2,3])"
   ]
  },
  {
   "cell_type": "markdown",
   "metadata": {},
   "source": [
    "**Q2-2**: **Array manipulation**: You have been given a data set for the temperature in Stockholm over roughly the past 200 years.  Redo this example but (1) convert the temperatures to Farenheit and (2) subtract off the mean temperature.  Generate a figure that illustrates the changes you have made."
   ]
  },
  {
   "cell_type": "code",
   "execution_count": null,
   "metadata": {},
   "outputs": [],
   "source": [
    "#import matplotlib.pyplot as plt\n",
    "## . . Your answer to question 2-2\n",
    "data = np.genfromtxt('stockholm_td_adj.dat')\n",
    "\n",
    "# Convert temperature to Farenheit:\n",
    "temp = data[:,5]                     # in deg Cel\n",
    "temp = temp * (9.0 / 5.0) + 32.0     # now in deg F\n",
    "\n",
    "# Subtract off the mean temperature:\n",
    "temp = temp - np.mean(temp)"
   ]
  },
  {
   "cell_type": "code",
   "execution_count": null,
   "metadata": {},
   "outputs": [],
   "source": [
    "fig, ax = plt.subplots(figsize=(14,4))\n",
    "ax.plot(data[:,0]+data[:,1]/12.0+data[:,2]/365, temp)\n",
    "ax.axis('tight')\n",
    "ax.set_title('tempeatures in Stockholm')\n",
    "ax.set_xlabel('year')\n",
    "ax.set_ylabel('temperature (C)');\n",
    "plt.show()\n",
    "fig.savefig(\"MyTemperaturePlot.png\")"
   ]
  },
  {
   "cell_type": "markdown",
   "metadata": {},
   "source": [
    "**Q2-3**: **Complex Numbers 1**: Find the amplitude and phase of \n",
    "\n",
    "$$z = \\frac{-9+3i}{1-2i} \\tag{2} $$\n",
    "\n",
    "Write a short python script to validate your result."
   ]
  },
  {
   "cell_type": "code",
   "execution_count": null,
   "metadata": {},
   "outputs": [],
   "source": [
    "## . . Your answer to question 2-3\n",
    "# simplifies to (-3-3j): done on paper\n",
    "magnitude = np.sqrt(18)\n",
    "phase = np.arctan(1)\n",
    "# add 90 deg (pi/2 radians) and make negative because in third quadrant and going clockwise\n",
    "phase = phase + (np.pi/2.0)\n",
    "phase *= -1\n",
    "\n",
    "z = (-9.0 + 3.0j) / (1.0 - 2.0j)\n",
    "\n",
    "# Will through assertion error if my numbers are wrong\n",
    "assert np.allclose(np.abs(z), magnitude, atol=0.0001)\n",
    "assert np.allclose(np.angle(z), phase, atol=0.0001)\n",
    "\n"
   ]
  },
  {
   "cell_type": "markdown",
   "metadata": {},
   "source": [
    "**Q2-4**: **Complex Numbers 2**: Solve the following equation:\n",
    "\n",
    "$$ iz^2-2\\sqrt{2}z-2\\sqrt{3}=0, \\quad z\\in\\mathbb{C} $$\n",
    "\n",
    "Write a short python script to validate your result."
   ]
  },
  {
   "cell_type": "code",
   "execution_count": null,
   "metadata": {},
   "outputs": [],
   "source": [
    "## . . Your answer to question 2-4\n",
    "\n",
    "# My paper answers:\n",
    "sol1 = 1 - 3.146j\n",
    "sol2 = -1 + .317j\n",
    "\n",
    "# This is in the form: az**2 + bxz+ c = 0\n",
    "# So lets use def solveQuad defined in Problem 1-1 (copy and pasted here)\n",
    "def solveQuad(a,b,c):\n",
    "    d = (b**2) - (4*a*c)\n",
    "    numpos = -b + np.sqrt(d)\n",
    "    numneg = -b - np.sqrt(d)\n",
    "    den = 2*a\n",
    "    return [numpos/den, numneg/den]\n",
    "\n",
    "ans = solveQuad(1.0j, -2.0*np.sqrt(2), -2.0*np.sqrt(3))\n",
    "\n",
    "# Will through assertion error if my paper answers are wrong:\n",
    "assert np.allclose(ans[0], sol1, atol=0.01)\n",
    "assert np.allclose(ans[1], sol2, atol=0.01)\n"
   ]
  },
  {
   "cell_type": "markdown",
   "metadata": {},
   "source": [
    "**Q2-5: Complex Numbers 3:** Is the following function real, imaginary or contains both?\n",
    "\n",
    "$$ \\mathrm{e}^{2+i\\pi/2} \\tag{3}$$\n",
    "\n",
    "Write a short python script to validate your result."
   ]
  },
  {
   "cell_type": "code",
   "execution_count": null,
   "metadata": {},
   "outputs": [],
   "source": [
    "## . . Your answer to question 2-5\n",
    "n = np.exp(2.0 + 1.0j*(np.pi/2.0))\n",
    "\n",
    "# This a complex number so it contains real and imaginary parts\n",
    "# assert both real and imag parts are not zero\n",
    "assert n.real is not 0\n",
    "assert n.imag is not 0"
   ]
  },
  {
   "cell_type": "markdown",
   "metadata": {},
   "source": [
    "## Part 3 - Matplotlib\n",
    "\n",
    "**Q3-1: 2D Plotting**: Recreate the following figure and save it under the name \"MyTwoFunctions.png\". \n",
    "\n",
    "<img src=\"TwoFunctions.png\" width=\"500\">\n"
   ]
  },
  {
   "cell_type": "code",
   "execution_count": null,
   "metadata": {},
   "outputs": [],
   "source": [
    "## . . Your answer to question 3-1\n",
    "x = np.arange(0,40,0.1)\n",
    "y1 = x**2 * np.cos(x)\n",
    "y2 = x**3 * np.exp(-0.2*x)\n",
    "\n",
    "plt.close('all')\n",
    "\n",
    "fig, ax = plt.subplots()\n",
    "ax.plot(x, y1, color='r', label='$x^2 cos(x)$')\n",
    "ax.plot(x, y2, color='b', label='$x^3 e^{-0.2x}$')\n",
    "ax.axis('tight')\n",
    "ax.set_title('A couple of functions where LaTeX is fun')\n",
    "ax.set_xlabel('x (units)')\n",
    "ax.set_ylabel('y (units)')\n",
    "ax.legend(loc=2); # upper left corner\n",
    "\n",
    "plt.show()\n",
    "\n",
    "fig.savefig(\"MyTwoFunctions.png\")"
   ]
  },
  {
   "cell_type": "markdown",
   "metadata": {},
   "source": [
    "**Q3-2: Lissajous Figures (in Polar)** Lissajous curves are the family of curves described by the parametric equations\n",
    " \n",
    "$$ \\begin{eqnarray} \n",
    "x(t) &=& a \\,\\mathrm{sin}\\,(nt +c)\\\\\n",
    "y(t) &=& b \\, \\mathrm{sin}\\,(t) \\\\\n",
    "\\end{eqnarray}\n",
    "$$\n",
    " \n",
    "The curves are named after Jules-Antonie Lissajous (1822-1880) who discovered the curves (in 1857) while doing experiments involving sound vibrations.  They are also sometimes referred to as Bowditch curves after the American mathematician Nathaniel Bowditch(1773-1838).  He is said to have discovered the curves while studying pendulums in 1815.  These curves have applications in physics, astronomy, mathematics and other sciences.\n",
    "\n",
    "Write a python script to make a **polar plot** of a Lissajous figure between $t=[0,2\\pi]$ using the following parameters: $a=4$, $b=3$, $n=4/3$ and $c=\\pi/30$. It should look something like this:\n",
    "\n",
    "<img src=\"Lissajous.png\" width=\"500\">\n"
   ]
  },
  {
   "cell_type": "code",
   "execution_count": null,
   "metadata": {},
   "outputs": [],
   "source": [
    "## . . Your answer to question 3-2 here.\n",
    "t = np.arange(0, 2.0*np.pi, 0.01)\n",
    "a = 4.0\n",
    "b = 3.0\n",
    "n = 4.0 / 3.0\n",
    "c = np.pi / 30.0\n",
    "\n",
    "x = a * np.sin(n*t + c)\n",
    "y = b * np.sin(t)\n",
    "\n",
    "# Four polar axes\n",
    "#f, ax = plt.subplots(subplot_kw=dict(projection='polar'))\n",
    "fig = plt.figure()\n",
    "ax = fig.add_axes([0.0, 0.0, .6, .6], polar=True)\n",
    "ax.plot(x, y, linewidth=4.0)\n",
    "\n",
    "plt.show()\n",
    "fig.savefig(\"MyPolarPlot.png\")"
   ]
  }
 ],
 "metadata": {
  "kernelspec": {
   "display_name": "Python 3",
   "language": "python",
   "name": "python3"
  },
  "language_info": {
   "codemirror_mode": {
    "name": "ipython",
    "version": 3
   },
   "file_extension": ".py",
   "mimetype": "text/x-python",
   "name": "python",
   "nbconvert_exporter": "python",
   "pygments_lexer": "ipython3",
   "version": "3.6.1"
  }
 },
 "nbformat": 4,
 "nbformat_minor": 2
}
